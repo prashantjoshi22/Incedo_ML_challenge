{
 "cells": [
  {
   "cell_type": "code",
   "execution_count": null,
   "metadata": {},
   "outputs": [],
   "source": [
    "import pandas as pd\n",
    "import numpy as np"
   ]
  },
  {
   "cell_type": "code",
   "execution_count": null,
   "metadata": {},
   "outputs": [],
   "source": [
    "df_train = pd.read_csv('/home/prashant/incedo/test/Dataset2147b1d/train_file.csv')\n",
    "df_train['source_'] = 1\n",
    "df_test = pd.read_csv('/home/prashant/incedo/test/Dataset2147b1d/test_file.csv')\n",
    "df_test['source_'] =0"
   ]
  },
  {
   "cell_type": "code",
   "execution_count": null,
   "metadata": {},
   "outputs": [],
   "source": [
    "df = pd.concat([df_train,df_test])\n",
    "df.reset_index(inplace=True)"
   ]
  },
  {
   "cell_type": "code",
   "execution_count": null,
   "metadata": {},
   "outputs": [],
   "source": [
    "df.head(3)\n",
    "df['GeoLocation'].fillna(df['GeoLocation'].mode()[0], inplace=True)\n",
    "df['GeoLocation'].value_counts()"
   ]
  },
  {
   "cell_type": "code",
   "execution_count": null,
   "metadata": {},
   "outputs": [],
   "source": [
    "#useless columns [patient_id,year,locDesc,Geoloc,Greater_Risk_Question,Description]\n",
    "geo_data = list(set(list(dict(df['GeoLocation'].value_counts()).keys())))"
   ]
  },
  {
   "cell_type": "code",
   "execution_count": null,
   "metadata": {},
   "outputs": [],
   "source": [
    "vec = []\n",
    "for i in geo_data:\n",
    "    i  = eval(i)\n",
    "    x = i[0]\n",
    "    y = i[1]\n",
    "    vec.append((x,y))"
   ]
  },
  {
   "cell_type": "code",
   "execution_count": null,
   "metadata": {},
   "outputs": [],
   "source": [
    "from pprint import pprint\n",
    "X = np.array(vec)\n",
    "from sklearn.cluster import KMeans"
   ]
  },
  {
   "cell_type": "code",
   "execution_count": null,
   "metadata": {},
   "outputs": [],
   "source": [
    "kmeans = KMeans(n_clusters=15, random_state=0).fit(X)\n",
    "labels = (kmeans.labels_)\n",
    "geo_clus_dict = {}\n",
    "for cnt,i in enumerate(geo_data):\n",
    "    geo_clus_dict[i] = labels[cnt]"
   ]
  },
  {
   "cell_type": "code",
   "execution_count": null,
   "metadata": {},
   "outputs": [],
   "source": [
    "#geo_clus_dict['GeneratorExit']\n",
    "df['GeoLocation'][1]"
   ]
  },
  {
   "cell_type": "code",
   "execution_count": null,
   "metadata": {},
   "outputs": [],
   "source": [
    "new_col = []\n",
    "for i in range(df.shape[0]):\n",
    "    clus_no = geo_clus_dict[df['GeoLocation'][i]]\n",
    "    new_col.append(clus_no)"
   ]
  },
  {
   "cell_type": "code",
   "execution_count": null,
   "metadata": {},
   "outputs": [],
   "source": [
    "df['geo_loc_clu_no'] = new_col"
   ]
  },
  {
   "cell_type": "code",
   "execution_count": null,
   "metadata": {
    "scrolled": true
   },
   "outputs": [],
   "source": [
    "new_df = df.drop(['Patient_ID','YEAR','LocationDesc','Greater_Risk_Question', 'Description','GeoLocation'],axis=1)\n",
    "len(set(df['QuestionCode']))\n"
   ]
  },
  {
   "cell_type": "code",
   "execution_count": null,
   "metadata": {},
   "outputs": [],
   "source": [
    "print(new_df.isnull().sum())\n",
    "new_df.head()"
   ]
  },
  {
   "cell_type": "code",
   "execution_count": null,
   "metadata": {},
   "outputs": [],
   "source": [
    "new_df.dtypes"
   ]
  },
  {
   "cell_type": "code",
   "execution_count": null,
   "metadata": {},
   "outputs": [],
   "source": [
    "col_to_be_converted = ['Subtopic','Sex','Race','Grade','QuestionCode',\\\n",
    "                       'StratID1','StratID2','StratID3','StratificationType']\n",
    "one_hot_vector_df = pd.get_dummies(new_df,columns=col_to_be_converted)"
   ]
  },
  {
   "cell_type": "code",
   "execution_count": null,
   "metadata": {},
   "outputs": [],
   "source": []
  },
  {
   "cell_type": "code",
   "execution_count": null,
   "metadata": {},
   "outputs": [],
   "source": [
    "new_df.head()"
   ]
  },
  {
   "cell_type": "code",
   "execution_count": null,
   "metadata": {},
   "outputs": [],
   "source": [
    "new_df['Sex'].value_counts()"
   ]
  },
  {
   "cell_type": "code",
   "execution_count": null,
   "metadata": {},
   "outputs": [],
   "source": [
    "import pandas as pd\n",
    "import numpy as np\n",
    "from sklearn import preprocessing\n",
    "\n",
    "scaler = preprocessing.StandardScaler()\n",
    "new_col = np.array(new_df['Sample_Size']).reshape(-1,1)\n",
    "scaled_df = list(map(lambda x : x[0] ,scaler.fit_transform(new_col)))\n"
   ]
  },
  {
   "cell_type": "code",
   "execution_count": null,
   "metadata": {},
   "outputs": [],
   "source": [
    "one_hot_vector_df['Sample_Size'] = scaled_df "
   ]
  },
  {
   "cell_type": "code",
   "execution_count": null,
   "metadata": {},
   "outputs": [],
   "source": [
    "one_hot_vector_df.head()"
   ]
  },
  {
   "cell_type": "code",
   "execution_count": null,
   "metadata": {},
   "outputs": [],
   "source": [
    "preprocessed_main_test = one_hot_vector_df.loc[one_hot_vector_df['source_'] == 0]\n",
    "preprocessed_main_train = one_hot_vector_df.loc[one_hot_vector_df['source_'] == 1]"
   ]
  },
  {
   "cell_type": "code",
   "execution_count": null,
   "metadata": {},
   "outputs": [],
   "source": [
    "preprocessed_main_test.drop(['source_','Greater_Risk_Probability'],inplace=True,axis =1)\n",
    "preprocessed_main_train.drop(['source_'],inplace=True,axis =1)"
   ]
  },
  {
   "cell_type": "code",
   "execution_count": null,
   "metadata": {},
   "outputs": [],
   "source": [
    "print(preprocessed_main_test.shape)\n",
    "preprocessed_main_train.shape\n",
    "preprocessed_main_test"
   ]
  },
  {
   "cell_type": "code",
   "execution_count": null,
   "metadata": {},
   "outputs": [],
   "source": [
    "y_train = (preprocessed_main_train['Greater_Risk_Probability'])\n",
    "x_train = preprocessed_main_train.drop(['Greater_Risk_Probability'],axis =1)"
   ]
  },
  {
   "cell_type": "code",
   "execution_count": null,
   "metadata": {},
   "outputs": [],
   "source": [
    "from sklearn.model_selection import train_test_split\n",
    "from sklearn.naive_bayes import MultinomialNB,GaussianNB\n",
    "from sklearn.linear_model import LogisticRegression\n",
    "X_train, X_test, y_train_internal, y_test_internal = train_test_split(x_train,y_train ,test_size =.1)"
   ]
  },
  {
   "cell_type": "code",
   "execution_count": null,
   "metadata": {},
   "outputs": [],
   "source": [
    "# # Import the model we are using\n",
    "# from sklearn.ensemble import RandomForestRegressor\n",
    "\n",
    "# # Instantiate model with 1000 decision trees\n",
    "# # rf = RandomForestRegressor(n_estimators = 100, random_state = 42)\n",
    "\n",
    "# # # Train the model on training data\n",
    "# # rf.fit(x_train, y_train)\n",
    "\n",
    "# params = {\n",
    "# 'num_leaves': 15,\n",
    "# 'max_bin': 100,\n",
    "# 'min_data_in_leaf': 45,\n",
    "# 'learning_rate': 0.01,\n",
    "# 'min_sum_hessian_in_leaf': 0.000446,\n",
    "# 'bagging_fraction': 0.55,\n",
    "# 'bagging_freq': 5,\n",
    "# 'max_depth': 14,\n",
    "# 'save_binary': True,\n",
    "# 'seed': 31452,\n",
    "# 'feature_fraction_seed': 31415,\n",
    "# 'feature_fraction': 0.51,\n",
    "# 'bagging_seed': 31415,\n",
    "# 'drop_seed': 31415,\n",
    "# 'data_random_seed': 31415,\n",
    "# #'objective': 'multiclass',\n",
    "# 'boosting_type': 'gbdt',\n",
    "# 'verbose': 1,\n",
    "# 'metric': 'rmse',\n",
    "# #'is_unbalance': False,\n",
    "# #     'categorical_feature': \"name:branch_id\"\n",
    "# # 'scale_pos_weight': len(train_df[\"target\"] == 0) / sum(train_df[\"target\"])\n",
    "# }\n",
    "\n",
    "# # Import the model we are using\n",
    "# #from sklearn.ensemble import RandomForestClassifier\n",
    "# # from tpot import TPOTClassifier\n",
    "# import lightgbm as lgb\n",
    "\n",
    "# d_train = lgb.Dataset(X_train, label=y_train_internal)\n",
    "# # Instantiate model with 1000 decision trees\n",
    "# #rf = RandomForestClassifier()\n",
    "\n",
    "# # Train the model on training data\n",
    "# #rm = rf.fit(X_train, y_train_internal)\n",
    "# rf = lgb.train(params, d_train,20000)"
   ]
  },
  {
   "cell_type": "code",
   "execution_count": null,
   "metadata": {},
   "outputs": [],
   "source": [
    "from sklearn.ensemble import RandomForestRegressor\n",
    "import matplotlib.pyplot as plt\n",
    "\n",
    "from subprocess import check_output\n",
    "from datetime import time\n",
    "import numpy as np\n",
    "# Establish model\n",
    "model = RandomForestRegressor(n_jobs=-1)\n",
    "\n",
    "estimators = np.arange(10, 200, 10)\n",
    "scores = []\n",
    "for n in estimators:\n",
    "    model.set_params(n_estimators=n)\n",
    "    model.fit(X_train, y_train_internal)\n",
    "    scores.append(model.score(X_test, y_test_internal))\n",
    "\n",
    "model.set_params(n_estimators=170)\n",
    "model.fit(X_train, y_train_internal)"
   ]
  },
  {
   "cell_type": "code",
   "execution_count": null,
   "metadata": {},
   "outputs": [],
   "source": [
    "pred_internal = model.predict(preprocessed_main_test)"
   ]
  },
  {
   "cell_type": "code",
   "execution_count": null,
   "metadata": {},
   "outputs": [],
   "source": [
    "id_ = list(df_test['Patient_ID'])\n",
    "len(id_)"
   ]
  },
  {
   "cell_type": "code",
   "execution_count": null,
   "metadata": {},
   "outputs": [],
   "source": [
    "final_res = pd.DataFrame()\n",
    "final_res['Patient_ID'] = id_\n",
    "final_res['Greater_Risk_Probability'] = pred_internal"
   ]
  },
  {
   "cell_type": "code",
   "execution_count": null,
   "metadata": {},
   "outputs": [],
   "source": [
    "final_res.to_csv('lgb_1_cluster_app_clus_15_rf_regressor.csv',index=False)"
   ]
  },
  {
   "cell_type": "code",
   "execution_count": null,
   "metadata": {},
   "outputs": [],
   "source": []
  }
 ],
 "metadata": {
  "kernelspec": {
   "display_name": "Python 3",
   "language": "python",
   "name": "python3"
  },
  "language_info": {
   "codemirror_mode": {
    "name": "ipython",
    "version": 3
   },
   "file_extension": ".py",
   "mimetype": "text/x-python",
   "name": "python",
   "nbconvert_exporter": "python",
   "pygments_lexer": "ipython3",
   "version": "3.6.7"
  }
 },
 "nbformat": 4,
 "nbformat_minor": 2
}
