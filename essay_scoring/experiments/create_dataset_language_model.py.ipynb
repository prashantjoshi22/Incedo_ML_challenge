{
 "cells": [
  {
   "cell_type": "code",
   "execution_count": 27,
   "metadata": {},
   "outputs": [],
   "source": [
    "import pandas as pd\n",
    "import pandas as pd\n",
    "import re\n",
    "import string\n",
    "from sklearn.feature_extraction.text import TfidfVectorizer,CountVectorizer\n",
    "from sklearn.cluster import KMeans\n",
    "from nltk.corpus import stopwords\n",
    "from string import digits\n",
    "import numpy as np\n",
    "import nltk\n",
    "from nltk.stem.porter import PorterStemmer\n",
    "porter_stemmer = PorterStemmer()\n",
    "from nltk.stem import WordNetLemmatizer\n",
    "lemmatizer = WordNetLemmatizer()\n",
    "import operator\n",
    "from nltk.corpus import stopwords\n",
    "stop=[]\n",
    "stop.extend(stopwords.words('english'))\n",
    "\n"
   ]
  },
  {
   "cell_type": "code",
   "execution_count": 28,
   "metadata": {},
   "outputs": [],
   "source": [
    "df_train = pd.read_csv('train_dataset.csv')"
   ]
  },
  {
   "cell_type": "code",
   "execution_count": 29,
   "metadata": {},
   "outputs": [
    {
     "data": {
      "text/html": [
       "<div>\n",
       "<style scoped>\n",
       "    .dataframe tbody tr th:only-of-type {\n",
       "        vertical-align: middle;\n",
       "    }\n",
       "\n",
       "    .dataframe tbody tr th {\n",
       "        vertical-align: top;\n",
       "    }\n",
       "\n",
       "    .dataframe thead th {\n",
       "        text-align: right;\n",
       "    }\n",
       "</style>\n",
       "<table border=\"1\" class=\"dataframe\">\n",
       "  <thead>\n",
       "    <tr style=\"text-align: right;\">\n",
       "      <th></th>\n",
       "      <th>ID</th>\n",
       "      <th>Essayset</th>\n",
       "      <th>min_score</th>\n",
       "      <th>max_score</th>\n",
       "      <th>score_1</th>\n",
       "      <th>score_2</th>\n",
       "      <th>score_3</th>\n",
       "      <th>score_4</th>\n",
       "      <th>score_5</th>\n",
       "      <th>clarity</th>\n",
       "      <th>coherent</th>\n",
       "      <th>EssayText</th>\n",
       "    </tr>\n",
       "  </thead>\n",
       "  <tbody>\n",
       "    <tr>\n",
       "      <th>0</th>\n",
       "      <td>1</td>\n",
       "      <td>1.0</td>\n",
       "      <td>0</td>\n",
       "      <td>3</td>\n",
       "      <td>1</td>\n",
       "      <td>1</td>\n",
       "      <td>1.0</td>\n",
       "      <td>1.0</td>\n",
       "      <td>1.0</td>\n",
       "      <td>average</td>\n",
       "      <td>worst</td>\n",
       "      <td>Some additional information that we would need...</td>\n",
       "    </tr>\n",
       "    <tr>\n",
       "      <th>1</th>\n",
       "      <td>2</td>\n",
       "      <td>1.0</td>\n",
       "      <td>0</td>\n",
       "      <td>3</td>\n",
       "      <td>1</td>\n",
       "      <td>1</td>\n",
       "      <td>NaN</td>\n",
       "      <td>1.5</td>\n",
       "      <td>1.0</td>\n",
       "      <td>excellent</td>\n",
       "      <td>worst</td>\n",
       "      <td>After reading the expirement, I realized that ...</td>\n",
       "    </tr>\n",
       "    <tr>\n",
       "      <th>2</th>\n",
       "      <td>3</td>\n",
       "      <td>1.0</td>\n",
       "      <td>0</td>\n",
       "      <td>3</td>\n",
       "      <td>1</td>\n",
       "      <td>1</td>\n",
       "      <td>1.0</td>\n",
       "      <td>1.0</td>\n",
       "      <td>1.5</td>\n",
       "      <td>worst</td>\n",
       "      <td>above_average</td>\n",
       "      <td>What you need is more trials, a control set up...</td>\n",
       "    </tr>\n",
       "    <tr>\n",
       "      <th>3</th>\n",
       "      <td>4</td>\n",
       "      <td>1.0</td>\n",
       "      <td>0</td>\n",
       "      <td>3</td>\n",
       "      <td>0</td>\n",
       "      <td>0</td>\n",
       "      <td>0.0</td>\n",
       "      <td>0.0</td>\n",
       "      <td>1.0</td>\n",
       "      <td>worst</td>\n",
       "      <td>worst</td>\n",
       "      <td>The student should list what rock is better an...</td>\n",
       "    </tr>\n",
       "    <tr>\n",
       "      <th>4</th>\n",
       "      <td>5</td>\n",
       "      <td>1.0</td>\n",
       "      <td>0</td>\n",
       "      <td>3</td>\n",
       "      <td>2</td>\n",
       "      <td>2</td>\n",
       "      <td>2.0</td>\n",
       "      <td>2.5</td>\n",
       "      <td>1.0</td>\n",
       "      <td>above_average</td>\n",
       "      <td>worst</td>\n",
       "      <td>For the students to be able to make a replicat...</td>\n",
       "    </tr>\n",
       "  </tbody>\n",
       "</table>\n",
       "</div>"
      ],
      "text/plain": [
       "   ID  Essayset  min_score  max_score  score_1  score_2  score_3  score_4  \\\n",
       "0   1       1.0          0          3        1        1      1.0      1.0   \n",
       "1   2       1.0          0          3        1        1      NaN      1.5   \n",
       "2   3       1.0          0          3        1        1      1.0      1.0   \n",
       "3   4       1.0          0          3        0        0      0.0      0.0   \n",
       "4   5       1.0          0          3        2        2      2.0      2.5   \n",
       "\n",
       "   score_5        clarity       coherent  \\\n",
       "0      1.0        average          worst   \n",
       "1      1.0      excellent          worst   \n",
       "2      1.5          worst  above_average   \n",
       "3      1.0          worst          worst   \n",
       "4      1.0  above_average          worst   \n",
       "\n",
       "                                           EssayText  \n",
       "0  Some additional information that we would need...  \n",
       "1  After reading the expirement, I realized that ...  \n",
       "2  What you need is more trials, a control set up...  \n",
       "3  The student should list what rock is better an...  \n",
       "4  For the students to be able to make a replicat...  "
      ]
     },
     "execution_count": 29,
     "metadata": {},
     "output_type": "execute_result"
    }
   ],
   "source": [
    "df_train.head()"
   ]
  },
  {
   "cell_type": "code",
   "execution_count": 30,
   "metadata": {},
   "outputs": [],
   "source": [
    "text = df_train['EssayText']\n",
    "text = pd.Series(list(map(lambda x : x.lower().strip(),text)))\n",
    "list_ = list(text)"
   ]
  },
  {
   "cell_type": "code",
   "execution_count": 31,
   "metadata": {},
   "outputs": [],
   "source": [
    "big_text = []\n",
    "for l in list_:\n",
    "    another_l = l.lower().strip().split(' ')\n",
    "    for k in another_l:\n",
    "        big_text.append(k)"
   ]
  },
  {
   "cell_type": "code",
   "execution_count": 32,
   "metadata": {},
   "outputs": [],
   "source": [
    "d = pd.Series(list(set(big_text)))\n",
    "d.to_csv('/home/prashant/Downloads/uncased_L-24_H-1024_A-16/vocab.txt',index=False)"
   ]
  },
  {
   "cell_type": "code",
   "execution_count": 33,
   "metadata": {},
   "outputs": [],
   "source": [
    "text.to_csv('language.txt',index=False)"
   ]
  },
  {
   "cell_type": "code",
   "execution_count": 34,
   "metadata": {},
   "outputs": [
    {
     "data": {
      "text/plain": [
       "17043"
      ]
     },
     "execution_count": 34,
     "metadata": {},
     "output_type": "execute_result"
    }
   ],
   "source": [
    "len(text)"
   ]
  },
  {
   "cell_type": "code",
   "execution_count": 35,
   "metadata": {},
   "outputs": [
    {
     "data": {
      "text/plain": [
       "0        some additional information that we would need...\n",
       "1        after reading the expirement, i realized that ...\n",
       "2        what you need is more trials, a control set up...\n",
       "3        the student should list what rock is better an...\n",
       "4        for the students to be able to make a replicat...\n",
       "5        i would need the information of why you would ...\n",
       "6        the information i would need in order to suces...\n",
       "7        you would need many more pieces of information...\n",
       "8        some additional information you will need are ...\n",
       "9        inorder to replicate the experiment, we will n...\n",
       "10       an additional information that i would need in...\n",
       "11       the additional infomation you would need to re...\n",
       "12       there are two pieces of additional information...\n",
       "13          in order the replicate the experiment you need\n",
       "14       well what i understand about this procedure is...\n",
       "15                          i don't know what is going on!\n",
       "16       in order to replicate this experiment, i would...\n",
       "17       the additional information i would need is to ...\n",
       "18       in order to replicate this experiment i would ...\n",
       "19       in order for the me to replicate their procedu...\n",
       "20       you would need to have four seperate but ident...\n",
       "21       inorder to replicate the experiment, i would n...\n",
       "22       the students data needed to include how much o...\n",
       "23       for this experiments duplication, you would ne...\n",
       "24       some additional information that i would need ...\n",
       "25       after reading the groups procedure i would nee...\n",
       "26       they needed to include what time they started ...\n",
       "27       1). get 4 different samples: marble, limestone...\n",
       "28       in order to replicate this experiment, you wou...\n",
       "29       in step three, you would need to know how much...\n",
       "                               ...                        \n",
       "17013    white ::  the black was 9(deg) c warmer then t...\n",
       "17014    white :: painting the dog house white will kee...\n",
       "17015    white :: white you be the best color for brand...\n",
       "17016    dark gray :: it won't be too hot or too cold i...\n",
       "17017    white ::  bright colers reflect the light so t...\n",
       "17018    black ::  the color black would keep the the d...\n",
       "17019    light gray :: the color wouyld affect the dog ...\n",
       "17020    light gray ::  a light gray paint on the dogho...\n",
       "17021    white :: i think it would be white because the...\n",
       "17022    light gray ::  it will affect the dog house by...\n",
       "17023    black ::  the color black will be more warmer ...\n",
       "17024    black :: the black paint might make the dog ho...\n",
       "17025     white ::  because white dose not atract anything\n",
       "17026    white :: white would be better because during ...\n",
       "17027    dark gray :: it will warm the dog house but no...\n",
       "17028    light gray :: light gray would be a little coo...\n",
       "17029    light gray ::  in all seasons the doghouse wil...\n",
       "17030    white :: the white paint color would be cooler...\n",
       "17031    black :: white would keep the doghouse the col...\n",
       "17032    white :: it does not atract as much lite as a ...\n",
       "17033    black :: because black absorbs heat more then ...\n",
       "17034    white :: the color white absorbs less heat the...\n",
       "17035    black :: the color black prevents more cold an...\n",
       "17036    light gray ::  light gray might affect the ins...\n",
       "17037    light gray ::  painting the doghouse light gra...\n",
       "17038    white :: white becuase if you live in a hot pl...\n",
       "17039    light gray :: this color will affect the dogho...\n",
       "17040    light gray :: i think light gray would work th...\n",
       "17041    dark gray ::  if they painted the doghouse dar...\n",
       "17042    white :: the black would affect the doghouse b...\n",
       "Length: 17043, dtype: object"
      ]
     },
     "execution_count": 35,
     "metadata": {},
     "output_type": "execute_result"
    }
   ],
   "source": [
    "text"
   ]
  },
  {
   "cell_type": "code",
   "execution_count": 36,
   "metadata": {},
   "outputs": [],
   "source": [
    "# python extract_features.py \\\n",
    "#   --input_file=/home/prashant/incedo/p2/incedo_participant/language.txt \\\n",
    "#   --output_file=/home/prashant/incedo/p2/incedo_participant/output.jsonl \\\n",
    "#   --vocab_file=/home/prashant/Downloads/uncased_L-24_H-1024_A-16/vocab.txt \\\n",
    "#   --bert_config_file=/home/prashant/Downloads/uncased_L-24_H-1024_A-16/bert_config.json \\\n",
    "#   --init_checkpoint=/home/prashant/Downloads/uncased_L-24_H-1024_A-16/bert_model.ckpt \\\n",
    "#   --layers=-1,-2,-3,-4 \\\n",
    "#   --max_seq_length=128 \\\n",
    "#   --batch_size=8"
   ]
  },
  {
   "cell_type": "code",
   "execution_count": null,
   "metadata": {},
   "outputs": [],
   "source": []
  },
  {
   "cell_type": "code",
   "execution_count": null,
   "metadata": {},
   "outputs": [],
   "source": []
  }
 ],
 "metadata": {
  "kernelspec": {
   "display_name": "Python 3",
   "language": "python",
   "name": "python3"
  },
  "language_info": {
   "codemirror_mode": {
    "name": "ipython",
    "version": 3
   },
   "file_extension": ".py",
   "mimetype": "text/x-python",
   "name": "python",
   "nbconvert_exporter": "python",
   "pygments_lexer": "ipython3",
   "version": "3.6.7"
  }
 },
 "nbformat": 4,
 "nbformat_minor": 2
}
